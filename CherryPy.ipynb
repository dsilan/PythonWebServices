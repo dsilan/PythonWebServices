{
 "cells": [
  {
   "cell_type": "code",
   "execution_count": 2,
   "metadata": {},
   "outputs": [
    {
     "name": "stdout",
     "output_type": "stream",
     "text": [
      "Requirement already satisfied: pandas in c:\\programdata\\anaconda3\\lib\\site-packages (1.0.1)\n",
      "Requirement already satisfied: pytz>=2017.2 in c:\\programdata\\anaconda3\\lib\\site-packages (from pandas) (2019.3)\n",
      "Requirement already satisfied: numpy>=1.13.3 in c:\\programdata\\anaconda3\\lib\\site-packages (from pandas) (1.18.1)\n",
      "Requirement already satisfied: python-dateutil>=2.6.1 in c:\\programdata\\anaconda3\\lib\\site-packages (from pandas) (2.8.1)\n",
      "Requirement already satisfied: six>=1.5 in c:\\users\\dorsi\\appdata\\roaming\\python\\python37\\site-packages (from python-dateutil>=2.6.1->pandas) (1.12.0)\n",
      "Note: you may need to restart the kernel to use updated packages.\n"
     ]
    }
   ],
   "source": [
    "pip install pandas"
   ]
  },
  {
   "cell_type": "code",
   "execution_count": 3,
   "metadata": {},
   "outputs": [
    {
     "name": "stdout",
     "output_type": "stream",
     "text": [
      "Collecting CherryPy\n",
      "  Downloading CherryPy-18.6.0-py2.py3-none-any.whl (419 kB)\n",
      "Collecting jaraco.collections\n",
      "  Downloading jaraco.collections-3.2.0-py3-none-any.whl (9.7 kB)\n",
      "Requirement already satisfied: more-itertools in c:\\programdata\\anaconda3\\lib\\site-packages (from CherryPy) (8.2.0)\n",
      "Collecting zc.lockfile\n",
      "  Downloading zc.lockfile-2.0-py2.py3-none-any.whl (9.7 kB)\n",
      "Collecting portend>=2.1.1\n",
      "  Downloading portend-2.7.1-py3-none-any.whl (5.3 kB)\n",
      "Collecting cheroot>=8.2.1\n",
      "  Downloading cheroot-8.5.2-py2.py3-none-any.whl (97 kB)\n",
      "Requirement already satisfied: pywin32; sys_platform == \"win32\" in c:\\programdata\\anaconda3\\lib\\site-packages (from CherryPy) (227)\n",
      "Collecting jaraco.text\n",
      "  Downloading jaraco.text-3.5.0-py3-none-any.whl (8.1 kB)\n",
      "Collecting jaraco.classes\n",
      "  Downloading jaraco.classes-3.2.0-py3-none-any.whl (5.6 kB)\n",
      "Requirement already satisfied: setuptools in c:\\programdata\\anaconda3\\lib\\site-packages (from zc.lockfile->CherryPy) (45.2.0.post20200210)\n",
      "Collecting tempora>=1.8\n",
      "  Downloading tempora-4.0.1-py3-none-any.whl (14 kB)\n",
      "Requirement already satisfied: six>=1.11.0 in c:\\users\\dorsi\\appdata\\roaming\\python\\python37\\site-packages (from cheroot>=8.2.1->CherryPy) (1.12.0)\n",
      "Collecting jaraco.functools\n",
      "  Downloading jaraco.functools-3.2.0-py3-none-any.whl (6.7 kB)\n",
      "Requirement already satisfied: pytz in c:\\programdata\\anaconda3\\lib\\site-packages (from tempora>=1.8->portend>=2.1.1->CherryPy) (2019.3)\n",
      "Installing collected packages: jaraco.functools, jaraco.text, jaraco.classes, jaraco.collections, zc.lockfile, tempora, portend, cheroot, CherryPy\n",
      "Successfully installed CherryPy-18.6.0 cheroot-8.5.2 jaraco.classes-3.2.0 jaraco.collections-3.2.0 jaraco.functools-3.2.0 jaraco.text-3.5.0 portend-2.7.1 tempora-4.0.1 zc.lockfile-2.0\n",
      "Note: you may need to restart the kernel to use updated packages.\n"
     ]
    }
   ],
   "source": [
    " pip install CherryPy"
   ]
  },
  {
   "cell_type": "code",
   "execution_count": 12,
   "metadata": {},
   "outputs": [],
   "source": [
    "import cherrypy\n",
    "import pandas"
   ]
  },
  {
   "cell_type": "code",
   "execution_count": 4,
   "metadata": {},
   "outputs": [],
   "source": [
    "#try CherryPy"
   ]
  },
  {
   "cell_type": "code",
   "execution_count": 6,
   "metadata": {},
   "outputs": [],
   "source": [
    "class Square:\n",
    "    def sqr(self, df):\n",
    "        return df.iloc[:,0]**2"
   ]
  },
  {
   "cell_type": "code",
   "execution_count": 7,
   "metadata": {},
   "outputs": [],
   "source": [
    "sq = Square()"
   ]
  },
  {
   "cell_type": "code",
   "execution_count": 13,
   "metadata": {},
   "outputs": [],
   "source": [
    "class webService(object):\n",
    "   @cherrypy.expose\n",
    "   @cherrypy.tools.json_out()\n",
    "   @cherrypy.tools.json_in()\n",
    "   def process(self):\n",
    "      data = cherrypy.request.json\n",
    "      df = pd.DataFrame(data)\n",
    "      output = p.run(df)\n",
    "      return output.to_json()"
   ]
  },
  {
   "cell_type": "code",
   "execution_count": null,
   "metadata": {},
   "outputs": [
    {
     "name": "stderr",
     "output_type": "stream",
     "text": [
      "[20/Feb/2021:18:49:17] ENGINE Listening for SIGTERM.\n",
      "[20/Feb/2021:18:49:17] ENGINE Bus STARTING\n",
      "CherryPy Checker:\n",
      "The Application mounted at '' has an empty config.\n",
      "\n",
      "[20/Feb/2021:18:49:17] ENGINE Set handler for console events.\n",
      "[20/Feb/2021:18:49:17] ENGINE Started monitor thread 'Autoreloader'.\n",
      "[20/Feb/2021:18:49:17] ENGINE Serving on http://0.0.0.0:8080\n",
      "[20/Feb/2021:18:49:17] ENGINE Bus STARTED\n"
     ]
    }
   ],
   "source": [
    "if __name__ == '__main__':\n",
    "   config = {'server.socket_host': '0.0.0.0'}\n",
    "   cherrypy.config.update(config)\n",
    "   cherrypy.quickstart(webService())"
   ]
  }
 ],
 "metadata": {
  "kernelspec": {
   "display_name": "Python 3",
   "language": "python",
   "name": "python3"
  },
  "language_info": {
   "codemirror_mode": {
    "name": "ipython",
    "version": 3
   },
   "file_extension": ".py",
   "mimetype": "text/x-python",
   "name": "python",
   "nbconvert_exporter": "python",
   "pygments_lexer": "ipython3",
   "version": "3.7.6"
  }
 },
 "nbformat": 4,
 "nbformat_minor": 4
}
